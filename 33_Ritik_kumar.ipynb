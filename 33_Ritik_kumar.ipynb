{
 "cells": [
  {
   "cell_type": "markdown",
   "metadata": {},
   "source": [
    "Gradient descent"
   ]
  },
  {
   "cell_type": "code",
   "execution_count": 1,
   "metadata": {},
   "outputs": [],
   "source": [
    "from sympy import *"
   ]
  },
  {
   "cell_type": "code",
   "execution_count": 5,
   "metadata": {},
   "outputs": [
    {
     "name": "stdout",
     "output_type": "stream",
     "text": [
      "2.97565751290562\n"
     ]
    }
   ],
   "source": [
    "x = symbols('x')\n",
    "f = x**2-6*x+9\n",
    "x_0 =2.8\n",
    "step_size = 0.01\n",
    "tolerance = 0.0005\n",
    "expr_diff = diff(f,x)\n",
    "x_n_1 = x_0\n",
    "x_n = x_n_1 + 2*tolerance\n",
    "while abs(x_n - x_n_1) > tolerance:\n",
    "    x_n_1 = x_n\n",
    "    slope = expr_diff.subs(x,x_n_1)\n",
    "    x_n = x_n_1 - slope*step_size\n",
    "print(x_n)"
   ]
  },
  {
   "cell_type": "markdown",
   "metadata": {},
   "source": [
    "Newton-raphson Method"
   ]
  },
  {
   "cell_type": "code",
   "execution_count": 8,
   "metadata": {},
   "outputs": [
    {
     "name": "stdout",
     "output_type": "stream",
     "text": [
      "2.99961964863735\n"
     ]
    }
   ],
   "source": [
    "x= symbols('x')\n",
    "f = x**2-6*x+9\n",
    "x_0 =2.8\n",
    "x_n_1 = x_0\n",
    "expr_diff = diff(f,x)\n",
    "while abs(x_n == x_n_1) :\n",
    "    x_n_1 = x_n\n",
    "    slope = expr_diff.subs(x,x_n_1)\n",
    "    r_func= f.subs(x,x_n_1)\n",
    "    x_n = x_n_1 - (r_func)/(slope)\n",
    "print(x_n)"
   ]
  }
 ],
 "metadata": {
  "kernelspec": {
   "display_name": "Python 3",
   "language": "python",
   "name": "python3"
  },
  "language_info": {
   "codemirror_mode": {
    "name": "ipython",
    "version": 3
   },
   "file_extension": ".py",
   "mimetype": "text/x-python",
   "name": "python",
   "nbconvert_exporter": "python",
   "pygments_lexer": "ipython3",
   "version": "3.11.4"
  }
 },
 "nbformat": 4,
 "nbformat_minor": 2
}
